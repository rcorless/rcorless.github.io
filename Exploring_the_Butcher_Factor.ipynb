{
 "cells": [
  {
   "cell_type": "markdown",
   "id": "b30ea33f",
   "metadata": {},
   "source": [
    "# Exploring the Butcher Factor #\n",
    "\n",
    "## Robert M. Corless ##\n",
    "### Auckland, 2024-03-26 ###\n",
    "\n",
    "### Part II of my talk for woRK 2024 ###\n",
    "\n",
    "This file, named ButcherFactor.ipynb distributed through my github site, is a Jupyter notebook using a Maple kernel. It contains some programs associated with it useful for Hermite interpolation and for Birkhoff interpolation.\n",
    "\n"
   ]
  },
  {
   "cell_type": "code",
   "execution_count": 1,
   "id": "2b126f7d",
   "metadata": {},
   "outputs": [
    {
     "data": {
      "text/plain": [
       "kilobytes used=1797, alloc=5424, time=0.36"
      ]
     },
     "metadata": {},
     "output_type": "display_data"
    }
   ],
   "source": [
    "#\n",
    "# BHIP: Barycentric Hermite Interpolation Program\n",
    "#\n",
    "# (c) Robert M. Corless, December 2007, August 2012\n",
    "#\n",
    "# Compute the barycentric form of the unique Hermite interpolant\n",
    "# of the polynomial given by values and derivative values of\n",
    "# p(t) at the nodes tau.\n",
    "#\n",
    "# CALLING SEQUENCES\n",
    "#\n",
    "#   ( p, gam ) := BHIP( flist, tau, t );\n",
    "#   ( p, gam ) := BHIP( ftayl, tau, t, 'Taylor' = true, 'Denominator' = q );\n",
    "#   ( p, gam, DD ) := BHIP( ftayl, tau, t, <opts>, 'Dmat'=true )\n",
    "#\n",
    "# Input:\n",
    "#    flist :: list of lists of derivative values\n",
    "#             [ [f[1,0],f[1,1],...,f[1,s[1]-1]],\n",
    "#               [f[2,0],f[2,1],...,f[2,s[2]-1]],\n",
    "#                ...\n",
    "#               [f[n,0],f[n,1],...,f[n,s[n]-1]] ]\n",
    "#    or, equivalently, when 'Taylor' is true,\n",
    "#    ftayl :: list of lists of Taylor Coefficients,\n",
    "#             same as above but divided by factorials\n",
    "#             [ [f[1,0]/0!,f[1,1]/1!,...,f[1,s[1]-1]/(s[1]-1)!],\n",
    "#               [f[2,0]/0!,f[2,1]/1!,...,f[2,s[2]-1]/(s[2]-1)!],\n",
    "#                ...\n",
    "#               [f[n,0]/0!,f[n,1]/1!,...,f[n,s[n]-1]/(s[n]-1)!] ]\n",
    "#\n",
    "#    As a convenience, singleton lists may be entered without []\n",
    "#    If plist[i] = [] is empty, then nothing\n",
    "#    is known about f at t = tau[i], and\n",
    "#    tau[i] will not figure in the output.\n",
    "#    Sometimes this is useful.  Not all flist[i] may\n",
    "#    be empty.\n",
    "#\n",
    "#    tau :: list of distinct complex nodes\n",
    "#           [tau[1],tau[2],...,tau[n]]\n",
    "#\n",
    "#    t :: name of the variable to use\n",
    "#\n",
    "#    Taylor :: boolean, 'true' if input is in Taylor form\n",
    "#\n",
    "#    Denominator :: polynomial in t, default 1 if absent\n",
    "#                :: list of lists of values and derivatives\n",
    "#                   or Taylor coefficients if Taylor is true\n",
    "#\n",
    "#    N.B.   f[i,j] = (D@@j)(f)(tau[i])  0 <= j <= s[i]-1\n",
    "#          = flist[i][j+1]\n",
    "#    Dmat :: boolean, 'true' if differentiation matrix desired\n",
    "#\n",
    "# Output:\n",
    "#         p :: The unique (rational) Hermite interpolant, in barycentric\n",
    "#              form.  Namely,\n",
    "#              #w(t)*add(add(gam[i,j]/(t-tau[i])^(1+j)*add(p[i,j]/j!*(t-tau[i])^k)\n",
    "#              This can be converted to distributed form by calling\n",
    "#              distrib(p);\n",
    "#\n",
    "#         gam :: The Array(1..n, 0..smax-1) of coefficients\n",
    "#\n",
    "#         Here w(t) = mul( ( t-tau[i])^s[i], i = 1..n )\n",
    "#              smax = max( op(s) )\n",
    "#         and  s = list of sizes of each list in plist,\n",
    "#              so s[i] is the number of pieces of\n",
    "#              information at node tau[i].\n",
    "#\n",
    "#         DD --- Differentiation matrix on the nodes tau\n",
    "#\n",
    "# Processing: local Laurent series.\n",
    "#             This approach is different to that of\n",
    "# Reference: C. Schneider & W.Werner, \"Hermite\n",
    "#            Interpolation: The Barycentric Approach\",\n",
    "#            Computing 46, 1991, pp 35-51.\n",
    "#\n",
    "BHIP := proc( pin::list, tau::list, t::name,\n",
    "              {Taylor::truefalse:=true}, \n",
    "              {Conditioning::truefalse:=false}, \n",
    "              {Dmat::truefalse:=false},\n",
    "              {Denominator::{algebraic,list}:=1} )\n",
    "        local brks, d, DD, denr, dens, dgam, \n",
    "              dr, g, gam, ghat,h, i, irow, j,\n",
    "              k, mu, n, numr, nums,\n",
    "              p, P, q, r, rs, rt, s, smax, sq;\n",
    "\n",
    "        n := nops(tau);\n",
    "        if nops(pin) <> n then\n",
    "           error \"Mismatched size of node list and data list\"\n",
    "        end if;\n",
    "\n",
    "        if nops(convert(tau,set)) < n then\n",
    "           error \"Nodes must be distinct, with confluency explicitly specified.\"\n",
    "        end if;\n",
    "\n",
    "        p := map(t -> `if`(t::list,t,[t]),pin); # singletons ok\n",
    "        s := map(nops,p); # confluency\n",
    "        smax := max(op(s));\n",
    "        if smax = 0 then\n",
    "          error \"At least one piece of data is necessary.\"\n",
    "        end if;\n",
    "        d := -1 + add( s[i], i=1..nops(s) );  # degree bound\n",
    "        p := `if`( Taylor, p, [seq([seq(p[i][j]/(j-1)!,j=1..s[i])],i=1..n)] );\n",
    "\n",
    "        gam := Array( 1..n, 0..smax-1 ); #default 0\n",
    "        if Conditioning then\n",
    "           dgam := Array( 1..n, 0..smax-1, 1..n ); #default 0\n",
    "        end if;\n",
    "\n",
    "        # The following works for n>=1\n",
    "        for i to n do\n",
    "            if s[i] > 0 then # ignore empty lists\n",
    "               h[i] := mul( (t-tau[j])^s[j], j = 1..i-1 )*\n",
    "                       mul( (t-tau[j])^s[j], j=i+1..n );\n",
    "               r[i] := series( 1/h[i], t=tau[i], s[i] );\n",
    "               for j to s[i] do\n",
    "                  gam[i,s[i]-j] := coeff( r[i], t-tau[i], j-1) ; #op( 2*j-1, r[i] );\n",
    "               end do;\n",
    "               if Conditioning then\n",
    "                  # We could compose a series for 1/(t-tau[k]) with\n",
    "                  # what we know, but using the kernel function \"series\"\n",
    "                  # is likely faster.\n",
    "                  for k to i-1 do\n",
    "                     dr[i,k] := series( s[k]/h[i]/(t-tau[k]), t=tau[i], s[i] );\n",
    "                     for j to s[i] do\n",
    "                       dgam[i, s[i]-j, k] := coeff( dr[i,k], t-tau[i], j-1 );\n",
    "                     end do;\n",
    "                  end do;\n",
    "                  # We could reuse earlier series, and do one O(n^2)\n",
    "                  # computation to get gam[i,-1], but it's simpler to\n",
    "                  # use series (and likely faster because series is in the kernel)\n",
    "                  dr[i,i] := series( 1/h[i], t=tau[i], s[i]+1 );\n",
    "                  # We implicitly divide this by t-tau[i], and take\n",
    "                  # coefficients one higher.\n",
    "                  for j to s[i] do\n",
    "                     dgam[i,s[i]-j,i] := j*coeff( dr[i,i], t-tau[i], j );\n",
    "                  end do;\n",
    "                  for k from i+1 to n do\n",
    "                     dr[i,k] := series( s[k]/h[i]/(t-tau[k]), t=tau[i], s[i] );\n",
    "                     for j to s[i] do\n",
    "                       dgam[i, s[i]-j, k] := coeff( dr[i,k], t-tau[i], j-1 );\n",
    "                     end do;\n",
    "                  end do;\n",
    "               end if;\n",
    "            end if;\n",
    "        end do;\n",
    "\n",
    "        if not (Denominator::algebraic and Denominator=1) then\n",
    "           # adjust gam by folding in q\n",
    "           if Denominator::list then\n",
    "              if nops(Denominator)<>n then\n",
    "                 error \"Denominator list (q) has the wrong length.\"\n",
    "              end if;\n",
    "              q :=`if`( Taylor, q, [seq([seq(q[i][j]/(j-1)!,j=1..s[i])],i=1..n)] );\n",
    "           else\n",
    "              ghat := Array( 1..n );\n",
    "              for i to n do\n",
    "                 sq := series(Denominator,t=tau[i],s[i]);\n",
    "                 ghat[i] :=[seq(coeff(sq,t-tau[i],j),j=0..s[i]-1)];\n",
    "              end do;\n",
    "              q := [seq(ghat[i],i=1..n)];\n",
    "           end if;\n",
    "           ghat := Array( 1..n, 0..smax-1 );\n",
    "           for i to n do\n",
    "              for j from 0 to s[i]-1 do\n",
    "                 ghat[i,j] := add( gam[i,j+k]*q[i][k+1], k=0..s[i]-j-1 );\n",
    "              end do;\n",
    "           end do;\n",
    "           gam := ghat;\n",
    "        end if;\n",
    "\n",
    "        P := mul( (t-tau[i])^s[i],i=1..n)*\n",
    "             add(add(gam[i,j]/(t-tau[i])^(1+j)*\n",
    "                     add(p[i][1+k]*(t-tau[i])^k, k=0..j),\n",
    "                     j=0..s[i]-1),\n",
    "                 i=1..n );\n",
    "               \n",
    "        # Translated from Matlab.  Nearly working.         \n",
    "        if Dmat then\n",
    "          # Compute differentiation matrix\n",
    "          DD := Matrix( d+1, d+1 );\n",
    "          brks := [seq(add(s[j],j=1..i-1),i=1..nops(s))]; #cumsum([0,s.']);\n",
    "          irow := 0;\n",
    "          for k to n do\n",
    "            # trivial rows\n",
    "            for j to s[k]-1 do\n",
    "              irow := irow+1;\n",
    "              # next available row\n",
    "              DD[irow,brks[k]+j+1] := j;  # result is in Taylor form\n",
    "            end;\n",
    "            # Nontrivial row\n",
    "            irow := irow+1;\n",
    "            for i in [seq(j,j=1..k-1),seq(j,j=k+1..n)] do\n",
    "              for j to s[i] do\n",
    "                g := 0;\n",
    "                for mu from j-1 to s[i]-1 do\n",
    "                    g := g + gam[i,mu]*(tau[k]-tau[i])^(j-2-mu);\n",
    "                end;\n",
    "                DD[irow,brks[i]+j] := g/gam[k,s[k]-1];\n",
    "              end;\n",
    "            end;\n",
    "            DD[irow,brks[k]+2..brks[k]+s[k]] := -gam[k,0..s[k]-2]/gam[k,s[k]-1];\n",
    "            # Final entry \n",
    "            DD[irow,brks[k]+1] := -add( DD[irow,brks[j]+1], j=1..nops(brks) );\n",
    "            DD[irow,1..-1] := DD[irow,1..-1]*s[k];  # want Taylor form of derivative\n",
    "          end;\n",
    "        end if;\n",
    "\n",
    "        \n",
    "        \n",
    "        return P, gam, `if`(Conditioning,dgam,NULL), `if`(Dmat,DD,NULL) ;\n",
    "end proc:\n",
    "\n",
    "#Condition number\n",
    "BBHIP := proc( pin::list, tau::list, t::name, {Taylor::boolean:=false} )\n",
    "   local B, gam, n, i, j, k, p, s;\n",
    "   n := nops(tau);\n",
    "   p := map(t -> `if`(t::list,t,[t]),pin); # singletons ok\n",
    "\n",
    "   s := map(nops,p); # confluency\n",
    "\n",
    "   ( p, gam ) := BHIP( pin, tau, t, ':-Taylor'=Taylor );\n",
    "\n",
    "   return abs(mul((t-tau[i])^s[i],i=1..n))*add( add(\n",
    "          abs( add( gam[i,j+k]/k!/(t-tau[i])^(j+1),j=0..s[i]-1-k) ),\n",
    "          k=0..s[i]-1),\n",
    "          i=1..n )\n",
    "end proc:\n",
    "\n",
    "# Generalized companion matrix pencil\n",
    "# Upended October 2012\n",
    "# Transposed and negated to agree with Standard Triples Paper May 2018 \n",
    "# Remaining TODO: incorporate matrix polynomials via Kronecker product\n",
    "CMP := proc( pin::list, tau::list, t::name, {Taylor::boolean:=false} )\n",
    "   local C0, C1, gam, n, i, j, k, p, P, s, d;\n",
    "   n := nops(tau);\n",
    "   p := map(t -> `if`(t::list,t,[t]),pin); # singletons ok\n",
    "   s := map(nops,p); # confluency\n",
    "   p := `if`(Taylor, p, [seq([seq(p[i][j]/(j-1)!,j=1..s[i])],i=1..n)]);\n",
    "\n",
    "   d := -1 + add( s[i], i=1..n );\n",
    "\n",
    "   # P is irrelevant here, bar shape\n",
    "   ( P, gam ) := BHIP( p, tau, t, ':-Taylor'=true );\n",
    "\n",
    "   C1 := Matrix( d+2, d+2, (i,j)->`if`(i<>j,0,`if`(i=1,0,1)) );\n",
    "   C0 := Matrix( d+2, d+2, 0 );\n",
    "   k := 0;\n",
    "   for i to n do\n",
    "      for j to s[i] do\n",
    "         k := k+1;\n",
    "         if j < s[i] then\n",
    "            C0[d+3-(k),d+3-(k+1)] := 1;\n",
    "         end if;\n",
    "         C0[d+3-k,d+3-k]   :=  tau[i];\n",
    "         C0[1,d+3-k] := -p[i][j];\n",
    "         C0[d+3-k,1] :=  gam[i,j-1];\n",
    "      end do;\n",
    "   end do;\n",
    "\n",
    "   return C0, C1\n",
    "\n",
    "end proc:\n",
    "\n",
    "# distribution utility\n",
    "distrib := proc( p )\n",
    "  local w;\n",
    "  if op(0,p) <> `*` then\n",
    "     return p\n",
    "  elif op(-1,p)::`+` then\n",
    "     w := p/op(-1,p);\n",
    "     return add( normal(w*t), t in [op(op(-1,p))] )\n",
    "  else\n",
    "     return p\n",
    "  end;\n",
    "end:\n",
    "\n",
    "TPHC := proc( n, m )\n",
    "   local B, Bc, ctrs, i, mx, p, plts, sx, t, x, y;\n",
    "   p := [[seq((-1)^k, k = 0 .. n-1)], [seq((-1)^k, k = 0 .. m-1)]];\n",
    "   B := BBHIP( p, [0,2], t );\n",
    "   sx := fsolve( diff( `assuming`([simplify(B)], [t::(RealRange(0, 2))]), t ), \n",
    "   t=0.0001..1.9999 );\n",
    "   if [sx] = [] then error \"Failed to locate the maximum\" end;\n",
    "   if has(sx,t) then sx := 1; end;\n",
    "   mx := eval(B, t = sx);\n",
    "   Bc := eval(B, t=x+I*y );\n",
    "   ctrs := mx*[seq(100^k, k = 0 .. 3)];\n",
    "   plts := NULL;\n",
    "   for i in ctrs do\n",
    "      plts := plts, plots[implicitplot](Bc-i, x = -1.5 .. 3.5, y = -2 .. 2, colour = \n",
    "      BLACK, grid = 2*[50, 50], gridrefine = 2, view=[-1.5..3.5, -2..2], \n",
    "      scaling=CONSTRAINED )\n",
    "   end do;\n",
    "\n",
    "   return (mx, {plts});\n",
    "end:\n",
    "\n",
    "# This routine writes out the coefficients of 1 in the Hermite basis\n",
    "# in reverse order with an extra zero in front RMC May 2018\n",
    "# This gives us our X for the standard triple for Hermite/Lagrange linearizations\n",
    "rho2x := proc( pin )\n",
    "  local i, j, n, one, p, s;\n",
    "  p := map(t -> `if`(t::list,t,[t]),pin); # singletons ok\n",
    "  n := nops(p);\n",
    "  s := map(nops,p); # confluency\n",
    "  p := `if`(Taylor, p, [seq([seq(p[i][j]/(j-1)!,j=1..s[i])],i=1..n)]);\n",
    "  one := Vector[row]([0,seq(op([seq(0,j=2..s[n+1-i]),1]),i=1..n)] );\n",
    "end:"
   ]
  },
  {
   "cell_type": "code",
   "execution_count": 2,
   "id": "73c9e18c",
   "metadata": {},
   "outputs": [],
   "source": [
    "#\n",
    "# BHBIP: Barycentric Hermite-Birkhoff Interpolation Problem\n",
    "# Procedure to solve the Hermite-Birkhoff Interpolation Problem in Maple, in Barycentric form\n",
    "#\n",
    "# RMC September 2009\n",
    "#\n",
    "# Input:\n",
    "#         y    :: list of y[i], each y[i] a list of local Taylor coefficients at tau[i];  \"undefined\" indicates coefficient not known.\n",
    "#         tau  :: list of distinct nodes tau[i]\n",
    "#         t    :: point to evaluate polynomial at, or symbol/name to return polynomial in barycentric form\n",
    "#\n",
    "# Output:\n",
    "#        if the problem is not poised, the routine returns an error message.\n",
    "#\n",
    "#        if t is one of tau, then a \"replaced list\" is returned (with tau and t), with all missing/undefined data replaced\n",
    "#\n",
    "#        if t is not a member of tau, then the value of the unique Hermite-Birkhoff interpolating polynomial is given at t.\n",
    "#\n",
    "#\n",
    "# For symbolic processing, this routine uses the environment variable \"Normalizer\".  Setting Normalizer to \"factor\" will sometimes\n",
    "# produce nicer results.  For floating-point data, setting it to \"evalf\" might be advisable.\n",
    "#\n",
    "# The program uses the local Laurent series algebra implemented in \"series\", which ought to be numerically stable, but may not be.\n",
    "# More needs to be investigated here.\n",
    "#\n",
    "BHBIP := proc( y::list, tau::list, t, {Denominator::{operator}:=1}  )\n",
    "   local A, answer, anymissing, b, B, dt, eqs, i, ii, j, jj, k, m, missing, n, R, rb, s, ser, sol, w, ycopy, z;\n",
    "\n",
    "   # Error conditions\n",
    "\n",
    "   n := nops(tau);\n",
    "   if nops(convert(tau,set)) < n then\n",
    "      error \"Interpolation nodes must be distinct; use lists of Taylor coefficients to indicate confluency.\"\n",
    "   end if;\n",
    "\n",
    "   if nops(y) <> n then\n",
    "      error \"Mismatch between the number of nodes and the number of lists of local Taylor coefficients.\"\n",
    "   end if;\n",
    "\n",
    "   # Walk through \"y\" to locate undefined values, and to find confluencies s.\n",
    "\n",
    "   s := Vector( n, 0 );\n",
    "   missing := Matrix( n, n, (i,j)->false );\n",
    "   anymissing := Vector(n, i->false );\n",
    "   m := 0;\n",
    "   for i to n do\n",
    "      s[i] := nops(y[i]);\n",
    "      # Dumbly looking at each one, because more than one may be undefined\n",
    "      for j to s[i] do\n",
    "         if y[i][j] = undefined then\n",
    "            missing[i,j] := true;  # Yes, useless rewriting of conditional, but saves typing if \"undefined\" is replaced/extended\n",
    "            anymissing[i] := true; # Yes, useless re-doing, but it saves a useless test\n",
    "            m := m + 1;\n",
    "         end if;\n",
    "      end do;\n",
    "   end do;\n",
    "\n",
    "   w := mul( (z-tau[i])^s[i], i=1..n );\n",
    "   \n",
    "   if m=0 then\n",
    "      warning (\"Problem was apparently a pure Hermite interpolation problem.  No missing data noticed.\");\n",
    "   end if;\n",
    "   \n",
    "   \n",
    "   if member(t, tau) then\n",
    "      # In this case, just fill in all the missing data.\n",
    "      \n",
    "      \n",
    "      B := add( b[k]*z^k, k=0..m-1 );\n",
    "      eqs := Vector(m);\n",
    "      k := 0;\n",
    "      for i to n do\n",
    "         if anymissing[i] then\n",
    "            ser := series( Denominator(z)*B/w, z=tau[i], s[i]+1 );\n",
    "            for j to s[i] do\n",
    "               if missing[i,j] then\n",
    "                  k := k+1;\n",
    "                  eqs[k] := coeff( ser, z-tau[i], -j );\n",
    "               end if;\n",
    "            end do;\n",
    "         end if;\n",
    "      end do;\n",
    "\n",
    "      if k<> m then error \"Counted a different number of undefineds this time, Captain.\" end if;\n",
    "\n",
    "      \n",
    "      (A,rb) := LinearAlgebra:-GenerateMatrix( [seq(eqs[k],k=1..m)], [seq(b[k],k=0..m-1)] );\n",
    "       \n",
    "      dt := Normalizer(LinearAlgebra:-Determinant(A));\n",
    "      userinfo(10,procname,\"Determinant of matrix for multiplier coefficients is\", dt );\n",
    "       \n",
    "      if dt = 0 then\n",
    "        error \"Problem appears not to be poised.\"\n",
    "      end if;\n",
    "      \n",
    "      A := - LinearAlgebra:-MatrixInverse( A );\n",
    "      \n",
    "      \n",
    "      ycopy := Array( 1..n, 1..max( seq(s[i],i=1..n) ) );\n",
    "      \n",
    "      k := 0;\n",
    "      for i to n do\n",
    "              for j to s[i] do\n",
    "               if missing[i,j] then\n",
    "                  k := k+1;\n",
    "                  B := add( A[ell,k]*z^(ell-1), ell=1..m );\n",
    "                  answer := 0;\n",
    "                  for ii to n do\n",
    "                     ser := series( Denominator(z)*B/w, z=tau[ii], s[ii]+1 );\n",
    "                     for jj to s[ii] do\n",
    "                        if not missing[ii,jj] then\n",
    "                           answer := answer + Normalizer(coeff( ser, z-tau[ii], -jj ))*y[ii][jj];\n",
    "                        end if;\n",
    "                     end do;\n",
    "                  end do;\n",
    "                  ycopy[i,j] := answer;\n",
    "               else\n",
    "                  ycopy[i,j] := y[i][j];\n",
    "               end if;\n",
    "            end do;\n",
    "       end do;\n",
    "\n",
    "      return [seq( [seq(ycopy[i,j],j=1..s[i])], i=1..n )], tau, t;\n",
    "\n",
    "   else\n",
    "      # In this case, use (potentially) symbolic solution.\n",
    "      B := add( b[k]*z^k, k=0..m );\n",
    "      eqs := Vector(m+1);\n",
    "      k   := 0;\n",
    "      for i to n do\n",
    "         if anymissing[i] then\n",
    "            ser := series( Denominator(z)*B/w/(z-t), z=tau[i], s[i]+1 );\n",
    "            for j to s[i] do\n",
    "               if missing[i,j] then\n",
    "                   k := k+1;\n",
    "                   eqs[k] := coeff( ser, z-tau[i], -j );\n",
    "               end if;\n",
    "            end do;\n",
    "         end if;\n",
    "      end do;\n",
    "      \n",
    "      if k<> m then error \"Counted a different number of undefineds this time, Captain.\" end if;\n",
    "      \n",
    "      eqs[m+1] := coeff( series( Denominator(z)*B/(z-t), z=t, 2 ), z-t, -1 ) + 1; # Move the w(t) to the end\n",
    "      \n",
    "      sol := solve( {seq(eqs[k],k=1..m+1)}, {seq(b[k],k=0..m)} );\n",
    "      \n",
    "      if sol = NULL or sol={} or has(sol,undefined) then\n",
    "         error \"Problem appears not to be poised.\"\n",
    "      end if;\n",
    "      \n",
    "      # Now use the b[k] values to generate the answer.\n",
    "      \n",
    "      R := eval( B/w/(z-t), sol );\n",
    "      \n",
    "      answer := 0;\n",
    "      for i to n do\n",
    "         ser := series( Denominator(z)*R, z=tau[i], s[i]+1 );\n",
    "         for j to s[i] do\n",
    "            if not missing[i,j] then\n",
    "               answer := answer + Normalizer(coeff( ser, z-tau[i], -j ))*y[i][j];\n",
    "            end if;\n",
    "         end do;\n",
    "      end do;\n",
    "      \n",
    "      return eval(w,z=t)*answer;\n",
    "   end if;\n",
    "   \n",
    "end proc:\n",
    "\n"
   ]
  },
  {
   "cell_type": "markdown",
   "id": "ef466729",
   "metadata": {},
   "source": [
    "### A Simple Example ###\n",
    "\n",
    "I made this up.  It's only supposed to be illustrative."
   ]
  },
  {
   "cell_type": "code",
   "execution_count": 3,
   "id": "d0cb0b37",
   "metadata": {},
   "outputs": [
    {
     "data": {
      "text/plain": [
       "        [       \"1 .. 4 x 0 .. 1 Array\"]"
      ]
     },
     "metadata": {},
     "output_type": "display_data"
    },
    {
     "data": {
      "image/png": "[encoded data removed]"
     },
     "execution_count": 3,
     "metadata": {},
     "output_type": "execute_result"
    }
   ],
   "source": [
    "nodes := [-1, -1/2, 1/2, 1]:\n",
    "rho := [[1, 0], [-1, 0], [1, 0], [-1, 0]]: # Hermite data\n",
    "pH, barywts := BHIP(rho, nodes, t);\n",
    "pHplot := plot( pH, t=-1..1, colour=blue );"
   ]
  },
  {
   "cell_type": "code",
   "execution_count": 4,
   "id": "7febbc86",
   "metadata": {},
   "outputs": [
    {
     "data": {
      "text/plain": [
       "                                     0, 0"
      ]
     },
     "metadata": {},
     "output_type": "display_data"
    }
   ],
   "source": [
    "DpH := diff(pH, t):\n",
    "limit(DpH, t = -1), limit(DpH, t = -1/2);\n"
   ]
  },
  {
   "cell_type": "code",
   "execution_count": 5,
   "id": "f8565b87",
   "metadata": {},
   "outputs": [
    {
     "data": {
      "text/plain": [
       "kilobytes used=5467, alloc=10801, time=0.73"
      ]
     },
     "metadata": {},
     "output_type": "display_data"
    },
    {
     "data": {
      "image/png": "[encoded data removed]"
     },
     "execution_count": 5,
     "metadata": {},
     "output_type": "execute_result"
    }
   ],
   "source": [
    "rhomissing := [[1, 0], [undefined, 0], [1, 0], [-1, 0]]:\n",
    "pB := BHBIP(rhomissing, nodes, t):\n",
    "pBplot := plot(pB, t = -1 .. 1, colour = red):\n",
    "plots[display](pHplot, pBplot);"
   ]
  },
  {
   "cell_type": "code",
   "execution_count": 6,
   "id": "3039b5d3",
   "metadata": {},
   "outputs": [
    {
     "data": {
      "text/plain": [
       "4/9/(z+1)^2+64/9/(2*z+1)^2-64/27/(2*z+1)+76/27/(z+1)+4/9/(z-1)^2+64/27/(2*z-1)-76/27/(z-1)+64/9/(2*z-1)^2"
      ]
     },
     "execution_count": 6,
     "metadata": {},
     "output_type": "execute_result"
    }
   ],
   "source": [
    "convert(1/((z + 1)^2*(z + 1/2)^2*(z - 1/2)^2*(z - 1)^2), parfrac, true);"
   ]
  },
  {
   "cell_type": "code",
   "execution_count": 7,
   "id": "3cbab899",
   "metadata": {},
   "outputs": [
    {
     "data": {
      "text/plain": [
       "4/9*D(p)(1)+16/9*D(p)(1/2)+76/27*p(-1)+32/27*p(1/2)+16/9*D(p)(-1/2)-76/27*p(1)-32/27*p(-1/2)+4/9*D(p)(-1) = 0"
      ]
     },
     "execution_count": 7,
     "metadata": {},
     "output_type": "execute_result"
    }
   ],
   "source": [
    "zer := 4/9*D(p)(1) + 16/9*D(p)(1/2) + 76/27*p(-1) + 32/27*p(1/2) + 16/9*D(p)(-1/2) - 76/27*p(1) - 32/27*p(-1/2) + 4/9*D(p)(-1) = 0;"
   ]
  },
  {
   "cell_type": "code",
   "execution_count": 8,
   "id": "6b9ab3fb",
   "metadata": {},
   "outputs": [
    {
     "data": {
      "text/plain": [
       "p(-1/2) = 3/8*D(p)(1)+3/2*D(p)(1/2)+19/8*p(-1)+p(1/2)+3/2*D(p)(-1/2)-19/8*p(1)+3/8*D(p)(-1)"
      ]
     },
     "execution_count": 8,
     "metadata": {},
     "output_type": "execute_result"
    }
   ],
   "source": [
    "peq := isolate( zer, p(-1/2) );"
   ]
  },
  {
   "cell_type": "code",
   "execution_count": 9,
   "id": "0765e9f8",
   "metadata": {},
   "outputs": [
    {
     "data": {
      "text/plain": [
       "p(-1/2) = 23/4"
      ]
     },
     "execution_count": 9,
     "metadata": {},
     "output_type": "execute_result"
    }
   ],
   "source": [
    "eval( peq, [p(-1) = 1, D(p)(-1) = 0, D(p)(-1/2) = 0, p(1/2) = 1, D(p)(1/2) = 0, p(1) = -1, D(p)(1) = 0]);"
   ]
  },
  {
   "cell_type": "code",
   "execution_count": 10,
   "id": "a0dea988",
   "metadata": {},
   "outputs": [
    {
     "data": {
      "text/plain": [
       "p \\left(-\\frac{1}{2}\\right) = \\frac{3 D\\left(p \\right)\\left(1\\right)}{8}+\\frac{3 D\\left(p \\right)\\left(\\frac{1}{2}\\right)}{2}+\\frac{19 p \\left(-1\\right)}{8}+p \\left(\\frac{1}{2}\\right)+\\frac{3 D\\left(p \\right)\\left(-\\frac{1}{2}\\right)}{2}-\\frac{19 p \\left(1\\right)}{8}+\\frac{3 D\\left(p \\right)\\left(-1\\right)}{8}"
      ]
     },
     "metadata": {},
     "output_type": "display_data"
    }
   ],
   "source": [
    "latex( peq );"
   ]
  },
  {
   "cell_type": "markdown",
   "id": "495c4e65",
   "metadata": {},
   "source": [
    "$p \\left(-\\frac{1}{2}\\right) = \\frac{3 D\\left(p \\right)\\left(1\\right)}{8}+\\frac{3 D\\left(p \\right)\\left(\\frac{1}{2}\\right)}{2}+\\frac{19 p \\left(-1\\right)}{8}+p \\left(\\frac{1}{2}\\right)+\\frac{3 D\\left(p \\right)\\left(-\\frac{1}{2}\\right)}{2}-\\frac{19 p \\left(1\\right)}{8}+\\frac{3 D\\left(p \\right)\\left(-1\\right)}{8}$"
   ]
  },
  {
   "cell_type": "markdown",
   "id": "47b6f43e",
   "metadata": {},
   "source": [
    "## A more complicated example ##\n",
    "\n",
    "Let's see what happens if there are _two_ missing function values."
   ]
  },
  {
   "cell_type": "code",
   "execution_count": 11,
   "id": "0ed77d69",
   "metadata": {},
   "outputs": [
    {
     "data": {
      "text/plain": [
       "           rho := [[1, 0], [undefined, 0], [undefined, 0], [-1, 0]]"
      ]
     },
     "metadata": {},
     "output_type": "display_data"
    },
    {
     "data": {
      "text/plain": [
       "[[1, 0], [19/8, 0], [-19/8, 0], [-1, 0]], [-1, -1/2, 1/2, 1], -1"
      ]
     },
     "execution_count": 11,
     "metadata": {},
     "output_type": "execute_result"
    }
   ],
   "source": [
    "rho := [[1,0], [undefined,0], [undefined,0], [-1,0]];\n",
    "rhoB, nds, tv := BHBIP( rho, nodes, nodes[1] );"
   ]
  },
  {
   "cell_type": "markdown",
   "id": "651742a8",
   "metadata": {},
   "source": [
    "What that call did was to _fill in_ the missing data: it said that the undefined values should be replaced by $19/8$ and $-19/8$ respectively.  This data can now be interpolated by the old Hermite code."
   ]
  },
  {
   "cell_type": "code",
   "execution_count": 12,
   "id": "b00d6f1e",
   "metadata": {},
   "outputs": [
    {
     "data": {
      "image/png": "[encoded data removed]"
     },
     "execution_count": 12,
     "metadata": {},
     "output_type": "execute_result"
    }
   ],
   "source": [
    "pB := BHBIP( rho, nodes, t ):\n",
    "plot( pB, t=-1..1, colour=green );"
   ]
  },
  {
   "cell_type": "code",
   "execution_count": 15,
   "id": "43806e05",
   "metadata": {},
   "outputs": [
    {
     "data": {
      "text/latex": [
       "$$\\left[\\begin{array}{ccccccccc}\n",
       "0 & 0 & 1 & 0 & \\frac{19}{8} & 0 & -\\frac{19}{8} & 0 & -1 \n",
       "\\\\\n",
       " \\frac{4}{9} & 1 & 0 & 0 & 0 & 0 & 0 & 0 & 0 \n",
       "\\\\\n",
       " -\\frac{76}{27} & 1 & 1 & 0 & 0 & 0 & 0 & 0 & 0 \n",
       "\\\\\n",
       " \\frac{16}{9} & 0 & 0 & \\frac{1}{2} & 0 & 0 & 0 & 0 & 0 \n",
       "\\\\\n",
       " \\frac{32}{27} & 0 & 0 & 1 & \\frac{1}{2} & 0 & 0 & 0 & 0 \n",
       "\\\\\n",
       " \\frac{16}{9} & 0 & 0 & 0 & 0 & -\\frac{1}{2} & 0 & 0 & 0 \n",
       "\\\\\n",
       " -\\frac{32}{27} & 0 & 0 & 0 & 0 & 1 & -\\frac{1}{2} & 0 & 0 \n",
       "\\\\\n",
       " \\frac{4}{9} & 0 & 0 & 0 & 0 & 0 & 0 & -1 & 0 \n",
       "\\\\\n",
       " \\frac{76}{27} & 0 & 0 & 0 & 0 & 0 & 0 & 1 & -1 \n",
       "\\end{array}\\right],\\left[\\begin{array}{ccccccccc}\n",
       "0 & 0 & 0 & 0 & 0 & 0 & 0 & 0 & 0 \n",
       "\\\\\n",
       " 0 & 1 & 0 & 0 & 0 & 0 & 0 & 0 & 0 \n",
       "\\\\\n",
       " 0 & 0 & 1 & 0 & 0 & 0 & 0 & 0 & 0 \n",
       "\\\\\n",
       " 0 & 0 & 0 & 1 & 0 & 0 & 0 & 0 & 0 \n",
       "\\\\\n",
       " 0 & 0 & 0 & 0 & 1 & 0 & 0 & 0 & 0 \n",
       "\\\\\n",
       " 0 & 0 & 0 & 0 & 0 & 1 & 0 & 0 & 0 \n",
       "\\\\\n",
       " 0 & 0 & 0 & 0 & 0 & 0 & 1 & 0 & 0 \n",
       "\\\\\n",
       " 0 & 0 & 0 & 0 & 0 & 0 & 0 & 1 & 0 \n",
       "\\\\\n",
       " 0 & 0 & 0 & 0 & 0 & 0 & 0 & 0 & 1 \n",
       "\\end{array}\\right]$$"
      ]
     },
     "execution_count": 15,
     "metadata": {},
     "output_type": "execute_result"
    }
   ],
   "source": [
    "(A,B) := CMP( rhoB, nodes, t );"
   ]
  },
  {
   "cell_type": "code",
   "execution_count": 16,
   "id": "56a10320",
   "metadata": {},
   "outputs": [
    {
     "data": {
      "text/latex": [
       "$$\\left[\\begin{array}{c}\n",
       "\\mathrm{Float}\\left(\\infty \\right)+ 0.0 \\,\\mathrm{I} \n",
       "\\\\\n",
       " \\mathrm{Float}\\left(\\infty \\right)+ 0.0 \\,\\mathrm{I} \n",
       "\\\\\n",
       " - 0.000386525753337245+ 1.35115613155823\\times 10^{7} \\mathrm{I} \n",
       "\\\\\n",
       " - 0.000386525753337245- 1.35115613155823\\times 10^{7} \\mathrm{I} \n",
       "\\\\\n",
       " - 1.03915847093130+ 0.195406399694621 \\,\\mathrm{I} \n",
       "\\\\\n",
       " - 1.03915847093130- 0.195406399694621 \\,\\mathrm{I} \n",
       "\\\\\n",
       "  3.64154323843701\\times 10^{-16}+ 0.0 \\,\\mathrm{I} \n",
       "\\\\\n",
       "  1.03915847093130+ 0.195406399694622 \\,\\mathrm{I} \n",
       "\\\\\n",
       "  1.03915847093130- 0.195406399694622 \\,\\mathrm{I} \n",
       "\\end{array}\\right]$$"
      ]
     },
     "execution_count": 16,
     "metadata": {},
     "output_type": "execute_result"
    }
   ],
   "source": [
    "Digits := 15:\n",
    "LinearAlgebra:-Eigenvalues( evalf(A), evalf(B) );"
   ]
  },
  {
   "cell_type": "code",
   "execution_count": null,
   "id": "94eec49f",
   "metadata": {},
   "outputs": [],
   "source": []
  }
 ],
 "metadata": {
  "kernelspec": {
   "display_name": "Maple 2024",
   "language": "maple",
   "name": "maple"
  },
  "language_info": {
   "file_extension": ".mpl",
   "mimetype": "application/vnd.maple.mpl",
   "name": "maple",
   "version": "2024"
  }
 },
 "nbformat": 4,
 "nbformat_minor": 5
}
